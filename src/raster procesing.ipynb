{
 "cells": [
  {
   "cell_type": "markdown",
   "metadata": {},
   "source": [
    "## Creation and modifcation of Rasters  \n",
    "To study the evolution of the forecast for the 18 of may of 2024, we use era 5 and ecmwf data to produce rasters, for a future visual analysis.  "
   ]
  },
  {
   "cell_type": "code",
   "execution_count": 1,
   "metadata": {},
   "outputs": [],
   "source": [
    "import numpy as np\n",
    "import xarray as xr\n",
    "import matplotlib.pyplot as plt\n",
    "import scipy \n",
    "import pandas as pd\n",
    "import os\n",
    "import matplotlib.dates as mdates\n",
    "import geopandas as gpd\n",
    "import rasterio\n",
    "from rasterio.transform import from_origin\n",
    "from geocube.api.core import make_geocube\n",
    "from geocube.rasterize import rasterize_points_radial # Different choices here\n",
    "from geocube.rasterize import rasterize_points_griddata # Different choices here\n",
    "from functools import partial\n",
    "from random import sample "
   ]
  },
  {
   "cell_type": "code",
   "execution_count": 2,
   "metadata": {},
   "outputs": [],
   "source": [
    "#change this address to your project location\n",
    "path='g:\\\\Mi unidad\\\\Universitat\\\\[SoSe24] Fundamentals of Earth System data processing\\\\ESDP_project\\\\Weather_forecast_case_stuty'\n",
    "os.chdir(path)"
   ]
  },
  {
   "cell_type": "code",
   "execution_count": 3,
   "metadata": {},
   "outputs": [],
   "source": [
    "\n",
    "data_path = [ 'data\\\\perturbed\\\\'+s  for s in os.listdir('data\\\\perturbed')]\n",
    "data_path = sorted(data_path, reverse=True)"
   ]
  },
  {
   "cell_type": "code",
   "execution_count": 4,
   "metadata": {},
   "outputs": [],
   "source": [
    "#this code is for extract raster datafiles from the netcdf, of the mean forecast for the 18 of may, and save it in the raster file\n",
    "\n",
    "for file in data_path[0:]:\n",
    "    \n",
    "    data = xr.open_dataset(file)\n",
    "    data.close()\n",
    "\n",
    "    #the index is to obtain all the values htat have the 18 of may\n",
    "    Mays18_index = (data['time']==pd.to_datetime('2024-05-18T00:00:00.000000000'))\n",
    "\n",
    "    data = data.sel(time= Mays18_index)\n",
    "    data = data.mean(dim='number',skipna= True)\n",
    "\n",
    "    #then we convert the netcdf file to data frame\n",
    "    df = data.to_dataframe(dim_order=None)\n",
    "    df = df.reset_index()\n",
    "    df = df[['longitude','latitude',\"tp\"]]\n",
    "    \n",
    "    #then we convert the  data frame to geodataframe\n",
    "\n",
    "    df['longitude'] = np.where(df['longitude'] > 180,df['longitude'] - 360,df['longitude'])\n",
    "    gdf = gpd.GeoDataFrame(df, \n",
    "                        geometry=gpd.points_from_xy(df.longitude, df.latitude), \n",
    "                        crs=4326)\n",
    "    \n",
    "    #to finally convert it to raster\n",
    "\n",
    "    geo_grid = make_geocube(\n",
    "        vector_data=gdf,\n",
    "        measurements=['tp'],\n",
    "        resolution=0.1, # degrees\n",
    "        rasterize_function=partial(rasterize_points_griddata, method=\"cubic\", filter_nan=True),\n",
    "        \n",
    "    )\n",
    "\n",
    "    #finally we save the raster\n",
    "\n",
    "    #we select the name of the file\n",
    "    input_string = file\n",
    "\n",
    "    # Split by the last backslash\n",
    "    filename_with_extension = input_string.split('\\\\')[-1]\n",
    "\n",
    "    # Split by the first dot\n",
    "    desired_part = filename_with_extension.split('.')[0]\n",
    "\n",
    "    #now we save with the name extracted\n",
    "    geo_grid.rio.to_raster(f'data/raster/{desired_part}.tif')"
   ]
  },
  {
   "cell_type": "code",
   "execution_count": 5,
   "metadata": {},
   "outputs": [],
   "source": [
    "#We have to do the same to the real era 5 reanalisis data\n",
    "\n",
    "data = xr.open_dataset('data\\\\era5\\\\era5_new_units.nc')\n",
    "\n",
    "data.close()\n",
    "\n",
    "#the index is to obtain all the values htat have the 18 of may\n",
    "Mays18_index = (data['time']==pd.to_datetime('2024-05-18T00:00:00.000000000'))\n",
    "data = data.sel(time= Mays18_index)\n",
    "\n",
    "#then we convert the netcdf file to data frame\n",
    "df = data.to_dataframe(dim_order=None)\n",
    "df = df.reset_index()\n",
    "df = df[['longitude','latitude',\"tp\"]]\n",
    "    \n",
    "#then we convert the  data frame to geodataframe\n",
    "\n",
    "df['longitude'] = np.where(df['longitude'] > 180,df['longitude'] - 360,df['longitude'])\n",
    "gdf = gpd.GeoDataFrame(df, \n",
    "                    geometry=gpd.points_from_xy(df.longitude, df.latitude), \n",
    "                    crs=4326)\n",
    "    \n",
    "#to finally convert it to raster\n",
    "\n",
    "geo_grid = make_geocube(\n",
    "    vector_data=gdf,\n",
    "    measurements=['tp'],\n",
    "    resolution=0.1, # degrees\n",
    "    rasterize_function=partial(rasterize_points_griddata, method=\"cubic\", filter_nan=True),\n",
    "        \n",
    "    )\n",
    "\n",
    "#finally we save the raster\n",
    "geo_grid.rio.to_raster(f'data/raster/era5_new_units.tif')"
   ]
  }
 ],
 "metadata": {
  "kernelspec": {
   "display_name": "Python 3",
   "language": "python",
   "name": "python3"
  },
  "language_info": {
   "codemirror_mode": {
    "name": "ipython",
    "version": 3
   },
   "file_extension": ".py",
   "mimetype": "text/x-python",
   "name": "python",
   "nbconvert_exporter": "python",
   "pygments_lexer": "ipython3",
   "version": "3.12.4"
  }
 },
 "nbformat": 4,
 "nbformat_minor": 2
}
